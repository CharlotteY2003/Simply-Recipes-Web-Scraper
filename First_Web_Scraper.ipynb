{
  "nbformat": 4,
  "nbformat_minor": 0,
  "metadata": {
    "colab": {
      "name": "First Web Scraper.ipynb",
      "provenance": [],
      "authorship_tag": "ABX9TyNkEBJKrrKoUDydWcN7+fFo",
      "include_colab_link": true
    },
    "kernelspec": {
      "display_name": "Python 3",
      "name": "python3"
    },
    "language_info": {
      "name": "python"
    }
  },
  "cells": [
    {
      "cell_type": "markdown",
      "metadata": {
        "id": "view-in-github",
        "colab_type": "text"
      },
      "source": [
        "<a href=\"https://colab.research.google.com/github/CharlotteY2003/Web-Scraper/blob/main/First_Web_Scraper.ipynb\" target=\"_parent\"><img src=\"https://colab.research.google.com/assets/colab-badge.svg\" alt=\"Open In Colab\"/></a>"
      ]
    },
    {
      "cell_type": "markdown",
      "metadata": {
        "id": "Exieyn9Ukfz1"
      },
      "source": [
        "# Initialization"
      ]
    },
    {
      "cell_type": "code",
      "metadata": {
        "id": "TZZy-TmbuAAl"
      },
      "source": [
        "import requests\n",
        "from requests import get\n",
        "from bs4 import BeautifulSoup\n",
        "import pandas as pd\n",
        "import numpy as np\n",
        "\n",
        "from time import sleep\n",
        "from random import randint"
      ],
      "execution_count": 1,
      "outputs": []
    },
    {
      "cell_type": "code",
      "metadata": {
        "id": "ODce00g2yboy"
      },
      "source": [
        "titles = []\n",
        "prep = []\n",
        "cats = []\n",
        "servings = []\n",
        "ingreds = []"
      ],
      "execution_count": 4,
      "outputs": []
    },
    {
      "cell_type": "code",
      "metadata": {
        "id": "d02SPQ66OzIz"
      },
      "source": [
        "urls = [\n",
        "        \"https://www.simplyrecipes.com/quick-vegetarian-recipes-5091240\",\n",
        "        \"https://www.simplyrecipes.com/comfort-food-recipes-5091432\",\n",
        "        'https://www.simplyrecipes.com/healthy-breakfast-recipes-5091517',\n",
        "        'https://www.simplyrecipes.com/vegetarian-dinner-recipes-5091427',\n",
        "        'https://www.simplyrecipes.com/vegetarian-breakfast-recipes-5091239'\n",
        "]"
      ],
      "execution_count": 5,
      "outputs": []
    },
    {
      "cell_type": "markdown",
      "metadata": {
        "id": "czzC0sW9kmN1"
      },
      "source": [
        "# Retrieve Information from Recipe Site"
      ]
    },
    {
      "cell_type": "code",
      "metadata": {
        "id": "kwl-P4csC2Gt"
      },
      "source": [
        "def getRecipe(item):\n",
        "\n",
        "  #get recipe name\n",
        "  name = item.contents[1].contents[3].contents[1].text\n",
        "  name = name.strip()\n",
        "  titles.append(name)\n",
        "\n",
        "  #vegetarian or not\n",
        "  text = str(item.div.contents[1])\n",
        "  tag = BeautifulSoup(text, 'html.parser').div\n",
        "  cat = tag['data-tax-tag']\n",
        "  cats.append(cat)\n",
        "  \n",
        "  #get prep time\n",
        "  time = item.contents[3].contents[1].span.text\n",
        "  time = time.strip()\n",
        "  prep.append(time)\n",
        "\n",
        "  #switch to access full recipe page\n",
        "  full_r = item.parent['href']\n",
        "  url = full_r\n",
        "  results = requests.get(url)\n",
        "  soup = BeautifulSoup(results.text, \"html.parser\")\n",
        "  recipe_div = soup.find_all('div', class_=\"comp article__content structured-content structured-project-content mntl-block\")\n",
        "  new_item = recipe_div[0]\n",
        "  \n",
        "  #get recipe's serving number\n",
        "  serving = getServingNum(url)\n",
        "  servings.append(serving)\n",
        "\n",
        "  #get ingredients\n",
        "  ingreds.append(getFood(url))"
      ],
      "execution_count": 7,
      "outputs": []
    },
    {
      "cell_type": "code",
      "metadata": {
        "id": "2BVRip7tiHit"
      },
      "source": [
        "def getServingNum(link):\n",
        "  results = requests.get(link)\n",
        "  soup = BeautifulSoup(results.text, \"html.parser\")\n",
        "  recipe_div = soup.find_all('div', class_=\"loc recipe-serving project-meta__recipe-serving\")\n",
        "  try:\n",
        "    new_item = recipe_div[0]\n",
        "  except:\n",
        "    recipe_div = soup.find_all('div', class_ = 'loc recipe-yield project-meta__recipe-yield')\n",
        "  #print(recipe_div)\n",
        "  new_item = recipe_div[0]\n",
        "  #get recipe's serving number\n",
        "  serving = new_item.contents[1].contents[3].text#[5]#.div.contents[3].div.contents[1].contents[3].text \n",
        "  serving = serving.replace('\\n', '')\n",
        "  #print(serving)\n",
        "  return serving"
      ],
      "execution_count": 8,
      "outputs": []
    },
    {
      "cell_type": "code",
      "metadata": {
        "id": "x37FKIhRQTWh"
      },
      "source": [
        "#gets each ingredient from individual recipe\n",
        "def getFood(link):\n",
        "  temp_arr = []\n",
        "  results = requests.get(link)\n",
        "  soup = BeautifulSoup(results.text, \"html.parser\")\n",
        "  recipe_div = soup.find('ul', class_='comp ingredient-list simple-list simple-list--circle ')\n",
        "  try:\n",
        "    food = recipe_div.contents[1]\n",
        "  except:\n",
        "    recipe_div = soup.find('ul', class_='structured-ingredients__list text-passage')\n",
        "  \n",
        "  food = recipe_div.contents[1]\n",
        "  temp_arr.append(food.text.strip())\n",
        "\n",
        "  score = 0\n",
        "  for sibling in food.next_siblings:\n",
        "    if (not score%2 == 0):\n",
        "      #print(sibling.text)\n",
        "      food = sibling.text.strip()\n",
        "      temp_arr.append(food)\n",
        "    score = score +1\n",
        "\n",
        "  return temp_arr"
      ],
      "execution_count": 9,
      "outputs": []
    },
    {
      "cell_type": "code",
      "metadata": {
        "id": "7NZxAhGB5XLU"
      },
      "source": [
        "#loops through all recipes on that page, extracting recipe name, vegatarian or not, prep time, \n",
        "#number of servings, and ingredients\n",
        "def getAllRecipes(recipe_div):\n",
        "  for container in recipe_div:\n",
        "    getRecipe(container) \n",
        "    sleep(randint(2,10))"
      ],
      "execution_count": 10,
      "outputs": []
    },
    {
      "cell_type": "code",
      "metadata": {
        "id": "7aYs30VHJsIQ"
      },
      "source": [
        "#creates table with given categories\n",
        "def createTable():\n",
        "  recipes = pd.DataFrame({\n",
        "    'titles': titles,\n",
        "    'category': cats,\n",
        "    'Prep time': prep,\n",
        "    'servings': servings,\n",
        "    'Ingreds': ingreds  \n",
        "}) \n",
        "  recipes.to_csv('recipes.csv')\n",
        "  return recipes"
      ],
      "execution_count": 11,
      "outputs": []
    },
    {
      "cell_type": "code",
      "metadata": {
        "id": "jwqmqpwPdSc1"
      },
      "source": [
        "# Gets all specified information from multiple pages (urls) of website and creates a table out of them\n",
        "def scrapeRecipes(urls):\n",
        "  for i in range(len(urls)):\n",
        "    results = requests.get(urls[i])\n",
        "    soup = BeautifulSoup(results.text, \"html.parser\")\n",
        "    recipe_div = soup.find_all('div', class_=\"card__wrapper\")\n",
        "    getAllRecipes(recipe_div)\n",
        "\n",
        "  recipe = createTable()\n",
        "  return recipe"
      ],
      "execution_count": 12,
      "outputs": []
    },
    {
      "cell_type": "markdown",
      "metadata": {
        "id": "4lJE_hTJlJ0u"
      },
      "source": [
        "# Function being Called"
      ]
    },
    {
      "cell_type": "code",
      "metadata": {
        "colab": {
          "base_uri": "https://localhost:8080/",
          "height": 609
        },
        "id": "Qucu66Uwdl4k",
        "outputId": "ed5d9f1e-550f-4791-9843-f4d780a55d45"
      },
      "source": [
        "scrapeRecipes(urls)"
      ],
      "execution_count": 13,
      "outputs": [
        {
          "output_type": "execute_result",
          "data": {
            "text/html": [
              "<div>\n",
              "<style scoped>\n",
              "    .dataframe tbody tr th:only-of-type {\n",
              "        vertical-align: middle;\n",
              "    }\n",
              "\n",
              "    .dataframe tbody tr th {\n",
              "        vertical-align: top;\n",
              "    }\n",
              "\n",
              "    .dataframe thead th {\n",
              "        text-align: right;\n",
              "    }\n",
              "</style>\n",
              "<table border=\"1\" class=\"dataframe\">\n",
              "  <thead>\n",
              "    <tr style=\"text-align: right;\">\n",
              "      <th></th>\n",
              "      <th>titles</th>\n",
              "      <th>category</th>\n",
              "      <th>Prep time</th>\n",
              "      <th>servings</th>\n",
              "      <th>Ingreds</th>\n",
              "    </tr>\n",
              "  </thead>\n",
              "  <tbody>\n",
              "    <tr>\n",
              "      <th>0</th>\n",
              "      <td>Socca</td>\n",
              "      <td>Quick Vegetarian</td>\n",
              "      <td>13 mins</td>\n",
              "      <td>4 servings</td>\n",
              "      <td>[1 1/2 cups chickpea flour, 3 tablespoons oliv...</td>\n",
              "    </tr>\n",
              "    <tr>\n",
              "      <th>1</th>\n",
              "      <td>Gochujang Green Beans</td>\n",
              "      <td>Quick Vegetarian</td>\n",
              "      <td>14 mins</td>\n",
              "      <td>4 servings</td>\n",
              "      <td>[2 tablespoons gochujang, 1 tablespoon rice vi...</td>\n",
              "    </tr>\n",
              "    <tr>\n",
              "      <th>2</th>\n",
              "      <td>Oat and Tahini Breakfast Cookies</td>\n",
              "      <td>Quick Vegetarian</td>\n",
              "      <td>27 mins</td>\n",
              "      <td>12 servings</td>\n",
              "      <td>[1/4 cup pepitas, 1/4 cup walnuts, coarsely ch...</td>\n",
              "    </tr>\n",
              "    <tr>\n",
              "      <th>3</th>\n",
              "      <td>Easy Avocado and Black Bean Quesadillas</td>\n",
              "      <td>Quick Vegetarian</td>\n",
              "      <td>25 mins</td>\n",
              "      <td>4 servings</td>\n",
              "      <td>[For the avocado mash:, 2 large or 3 small avo...</td>\n",
              "    </tr>\n",
              "    <tr>\n",
              "      <th>4</th>\n",
              "      <td>Chickpea Salad Sandwich</td>\n",
              "      <td>Quick Vegetarian</td>\n",
              "      <td>15 mins</td>\n",
              "      <td>2 sandwiches</td>\n",
              "      <td>[1 can (15 ounces) chickpeas, rinsed and drain...</td>\n",
              "    </tr>\n",
              "    <tr>\n",
              "      <th>...</th>\n",
              "      <td>...</td>\n",
              "      <td>...</td>\n",
              "      <td>...</td>\n",
              "      <td>...</td>\n",
              "      <td>...</td>\n",
              "    </tr>\n",
              "    <tr>\n",
              "      <th>153</th>\n",
              "      <td>Oat and Tahini Breakfast Cookies</td>\n",
              "      <td>Vegetarian Breakfast</td>\n",
              "      <td>27 mins</td>\n",
              "      <td>12 servings</td>\n",
              "      <td>[1/4 cup pepitas, 1/4 cup walnuts, coarsely ch...</td>\n",
              "    </tr>\n",
              "    <tr>\n",
              "      <th>154</th>\n",
              "      <td>Vegetarian Eggs Benedict with Spinach and Avocado</td>\n",
              "      <td>Vegetarian Breakfast</td>\n",
              "      <td>25 mins</td>\n",
              "      <td>4 servings</td>\n",
              "      <td>[For the Quick Blender Hollandaise Sauce:, 2 e...</td>\n",
              "    </tr>\n",
              "    <tr>\n",
              "      <th>155</th>\n",
              "      <td>Zucchini-Feta Frittata</td>\n",
              "      <td>Vegetarian Breakfast</td>\n",
              "      <td>60 mins</td>\n",
              "      <td>4to 6 servings</td>\n",
              "      <td>[3 medium zucchini (1 1/4 pounds), 1/4 teaspoo...</td>\n",
              "    </tr>\n",
              "    <tr>\n",
              "      <th>156</th>\n",
              "      <td>Scalloped Turnips</td>\n",
              "      <td>Vegetarian Breakfast</td>\n",
              "      <td>95 mins</td>\n",
              "      <td>6 servings</td>\n",
              "      <td>[4 Tbsp butter, 1/2 cup thinly sliced onions, ...</td>\n",
              "    </tr>\n",
              "    <tr>\n",
              "      <th>157</th>\n",
              "      <td>Artichoke Leek Frittata</td>\n",
              "      <td>Vegetarian Breakfast</td>\n",
              "      <td>55 mins</td>\n",
              "      <td>4 servings</td>\n",
              "      <td>[2 Tbsp butter, 2 cups sliced, cleaned leeks, ...</td>\n",
              "    </tr>\n",
              "  </tbody>\n",
              "</table>\n",
              "<p>158 rows × 5 columns</p>\n",
              "</div>"
            ],
            "text/plain": [
              "                                                titles  ...                                            Ingreds\n",
              "0                                                Socca  ...  [1 1/2 cups chickpea flour, 3 tablespoons oliv...\n",
              "1                                Gochujang Green Beans  ...  [2 tablespoons gochujang, 1 tablespoon rice vi...\n",
              "2                     Oat and Tahini Breakfast Cookies  ...  [1/4 cup pepitas, 1/4 cup walnuts, coarsely ch...\n",
              "3              Easy Avocado and Black Bean Quesadillas  ...  [For the avocado mash:, 2 large or 3 small avo...\n",
              "4                              Chickpea Salad Sandwich  ...  [1 can (15 ounces) chickpeas, rinsed and drain...\n",
              "..                                                 ...  ...                                                ...\n",
              "153                   Oat and Tahini Breakfast Cookies  ...  [1/4 cup pepitas, 1/4 cup walnuts, coarsely ch...\n",
              "154  Vegetarian Eggs Benedict with Spinach and Avocado  ...  [For the Quick Blender Hollandaise Sauce:, 2 e...\n",
              "155                             Zucchini-Feta Frittata  ...  [3 medium zucchini (1 1/4 pounds), 1/4 teaspoo...\n",
              "156                                  Scalloped Turnips  ...  [4 Tbsp butter, 1/2 cup thinly sliced onions, ...\n",
              "157                            Artichoke Leek Frittata  ...  [2 Tbsp butter, 2 cups sliced, cleaned leeks, ...\n",
              "\n",
              "[158 rows x 5 columns]"
            ]
          },
          "metadata": {
            "tags": []
          },
          "execution_count": 13
        }
      ]
    }
  ]
}